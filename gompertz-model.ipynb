{
  "nbformat": 4,
  "nbformat_minor": 0,
  "metadata": {
    "kernelspec": {
      "display_name": "Python 3",
      "language": "python",
      "name": "python3"
    },
    "language_info": {
      "codemirror_mode": {
        "name": "ipython",
        "version": 3
      },
      "file_extension": ".py",
      "mimetype": "text/x-python",
      "name": "python",
      "nbconvert_exporter": "python",
      "pygments_lexer": "ipython3",
      "version": "3.8.5"
    },
    "colab": {
      "name": "gompertz-model.ipynb",
      "provenance": [],
      "collapsed_sections": [],
      "include_colab_link": true
    }
  },
  "cells": [
    {
      "cell_type": "markdown",
      "metadata": {
        "id": "view-in-github",
        "colab_type": "text"
      },
      "source": [
        "<a href=\"https://colab.research.google.com/github/mikaeelkhalid/CS421-computer-modeling-and-simulation/blob/main/gompertz-model.ipynb\" target=\"_parent\"><img src=\"https://colab.research.google.com/assets/colab-badge.svg\" alt=\"Open In Colab\"/></a>"
      ]
    },
    {
      "cell_type": "code",
      "metadata": {
        "id": "-mjVOKWMqyp9"
      },
      "source": [
        "import numpy\n",
        "from pylab import *\n",
        "import math"
      ],
      "execution_count": null,
      "outputs": []
    },
    {
      "cell_type": "code",
      "metadata": {
        "id": "ZrLPnokXqyqA"
      },
      "source": [
        "def euler_method(dt,time_intervals):\n",
        "    rate = 0.10\n",
        "    N_init = 1000\n",
        "    tumor_growth = [N_init]\n",
        "   \n",
        "    def change(N,rate,M):\n",
        "        return round(rate*N*(math.log(M/N)),2) \n",
        "    \n",
        "    for i in range(len(time_intervals)-1):\n",
        "        tumor_growth.append(round(tumor_growth[i] + (change(tumor_growth[i],rate,M)*dt),2))\n",
        "    \n",
        "    return tumor_growth\n",
        "\n",
        "def analytical_solution(time_interval):\n",
        "    \n",
        "\n",
        "    k = 0.10\n",
        "    N_init = 1000\n",
        "    M = 1000000\n",
        "    tumor_growth = []\n",
        "    \n",
        "    \n",
        "    for t in time_interval:\n",
        "        \n",
        "        result1 = -(math.log(M / N_init)) \n",
        "        \n",
        "        result2 = math.exp(-(k*t)) \n",
        "        \n",
        "        result_e = math.exp(result1 * result2)\n",
        "    \n",
        "        FINAL = M * result_e\n",
        "        if FINAL < M:\n",
        "            tumor_growth.append(round(FINAL,3))\n",
        "        else:\n",
        "            break\n",
        "            \n",
        "    return tumor_growth"
      ],
      "execution_count": null,
      "outputs": []
    },
    {
      "cell_type": "markdown",
      "metadata": {
        "id": "cNuUlE-IqyqC"
      },
      "source": [
        "**Analytical Soltion Plot**"
      ]
    },
    {
      "cell_type": "code",
      "metadata": {
        "id": "Yff_1MadqyqD",
        "outputId": "caa87875-ba99-4fd2-cd8e-b1fdeeec9e95"
      },
      "source": [
        "dt = 1\n",
        "\n",
        "time_intervals = arange(0,12*3,dt)\n",
        "\n",
        "tumor_analytical_method = analytical_solution(time_intervals) \n",
        "\n",
        "pointsize= 3\n",
        "plot(time_intervals,tumor_analytical_method,\"or\",markersize=pointsize,label=\"Tumor growth\")\n",
        "ylabel(\"Tumor Cells Growth\")\n",
        "xlabel(\"Time\")\n",
        "legend(loc='upper left',numpoints=1)\n",
        "show()"
      ],
      "execution_count": null,
      "outputs": [
        {
          "output_type": "display_data",
          "data": {
            "image/png": "[encoded data removed]",
            "text/plain": [
              "<Figure size 432x288 with 1 Axes>"
            ]
          },
          "metadata": {
            "tags": [],
            "needs_background": "light"
          }
        }
      ]
    },
    {
      "cell_type": "markdown",
      "metadata": {
        "id": "nqQRL4cpqyqE"
      },
      "source": [
        "**Euler Method Plot**"
      ]
    },
    {
      "cell_type": "code",
      "metadata": {
        "id": "QXSkXbzKqyqF",
        "outputId": "0b8549ec-b771-4cb7-b8cb-3f6985c8abe6"
      },
      "source": [
        "tumor_euler_method  = euler_method(dt,time_intervals)\n",
        "pointsize= 3\n",
        "plot(time_intervals,tumor_euler_method,\"og\",markersize=pointsize,label=\"Tumor growth\")\n",
        "ylabel(\"Tumor Cells Growth\")\n",
        "xlabel(\"Time\")\n",
        "legend(loc='upper left',numpoints=1)\n",
        "show()"
      ],
      "execution_count": null,
      "outputs": [
        {
          "output_type": "display_data",
          "data": {
            "image/png": "[encoded data removed]",
            "text/plain": [
              "<Figure size 432x288 with 1 Axes>"
            ]
          },
          "metadata": {
            "tags": [],
            "needs_background": "light"
          }
        }
      ]
    },
    {
      "cell_type": "code",
      "metadata": {
        "id": "nr3yVs9ZqyqG",
        "outputId": "7c2e329d-6656-4911-e16b-9a412be258be"
      },
      "source": [
        "error = max(abs(array(tumor_euler_method) - array(tumor_analytical_method))/max(abs(array(tumor_analytical_method))))\n",
        "print(\"Error: \",round(error,5))\n",
        "\n",
        "pointsize = 2\n",
        "\n",
        "plot(time_intervals,tumor_analytical_method,\"ob\",markersize=pointsize,label=\"Actual\")\n",
        "\n",
        "plot(time_intervals,tumor_euler_method,\"og\",markersize=pointsize,label=\"Euler\")\n",
        "\n",
        "ylabel(\"Temp in C\")\n",
        "\n",
        "xlabel(\"Time\")\n",
        "\n",
        "legend(loc='upper left',numpoints=1)\n",
        "\n",
        "show()"
      ],
      "execution_count": null,
      "outputs": [
        {
          "output_type": "stream",
          "text": [
            "Error:  0.0872\n"
          ],
          "name": "stdout"
        },
        {
          "output_type": "display_data",
          "data": {
            "image/png": "[encoded data removed]",
            "text/plain": [
              "<Figure size 432x288 with 1 Axes>"
            ]
          },
          "metadata": {
            "tags": [],
            "needs_background": "light"
          }
        }
      ]
    }
  ]
}