{
  "nbformat": 4,
  "nbformat_minor": 0,
  "metadata": {
    "kernelspec": {
      "display_name": "Python 3",
      "language": "python",
      "name": "python3"
    },
    "language_info": {
      "codemirror_mode": {
        "name": "ipython",
        "version": 3
      },
      "file_extension": ".py",
      "mimetype": "text/x-python",
      "name": "python",
      "nbconvert_exporter": "python",
      "pygments_lexer": "ipython3",
      "version": "3.8.5"
    },
    "colab": {
      "name": "newton-law-simulation.ipynb",
      "provenance": [],
      "include_colab_link": true
    }
  },
  "cells": [
    {
      "cell_type": "markdown",
      "metadata": {
        "id": "view-in-github",
        "colab_type": "text"
      },
      "source": [
        "<a href=\"https://colab.research.google.com/github/mikaeelkhalid/CS421-computer-modeling-and-simulation/blob/main/newton-law-simulation.ipynb\" target=\"_parent\"><img src=\"https://colab.research.google.com/assets/colab-badge.svg\" alt=\"Open In Colab\"/></a>"
      ]
    },
    {
      "cell_type": "code",
      "metadata": {
        "id": "EK2hu8hSrbZa",
        "outputId": "898ea2f3-8dc7-44f7-8da5-5cbf9c33ae52"
      },
      "source": [
        "import numpy\n",
        "from pylab import *\n",
        "\n",
        "def actual_T(t,c,T0):\n",
        "    return (T0 - 23)*exp(-c*t) + 23\n",
        "\n",
        "def cooling_law(temp,c,Ts):\n",
        "    return -c*(temp-Ts) \n",
        "\n",
        "\n",
        "def constant_c(Tn,Tn_1,Ts,dt):\n",
        " \n",
        "    return -((Tn_1-Tn)/(Tn-Ts)*dt)\n",
        "\n",
        "def euler_method_newton(dt):\n",
        "    Ti=95   \n",
        "    Ts = 23   \n",
        "    t = 0 \n",
        "    total_mints = 60\n",
        "    first_observation = 93\n",
        "    c = round(constant_c(Ti,first_observation,Ts,dt),2) \n",
        "    \n",
        "    \n",
        "    time_interval = arange(t,total_mints,dt)       \n",
        "    \n",
        "    temprature = [Ti] \n",
        "    \n",
        "    for i in range(len(time_interval)-1):\n",
        "        \n",
        "        temprature.append(round(temprature[i] + ( (-c * ( temprature[i] - Ts )) * dt ), 3))\n",
        "    \n",
        "    return time_interval,temprature\n",
        "\n",
        "\n",
        "dt = 2 \n",
        "t, temp_euler = euler_method_newton(dt)\n",
        "pointsize= 4\n",
        "plot(t,temp_euler,\"ob\",markersize=pointsize,label=\"Cake temprature\")\n",
        "ylabel(\"Temp in C\")\n",
        "xlabel(\"Time\")\n",
        "legend(loc='upper right',numpoints=1)\n",
        "show()\n",
        "\n",
        "array(temp_euler)"
      ],
      "execution_count": null,
      "outputs": [
        {
          "output_type": "display_data",
          "data": {
            "image/png": "[encoded data removed]",
            "text/plain": [
              "<Figure size 432x288 with 1 Axes>"
            ]
          },
          "metadata": {
            "tags": [],
            "needs_background": "light"
          }
        },
        {
          "output_type": "execute_result",
          "data": {
            "text/plain": [
              "array([95.   , 86.36 , 78.757, 72.066, 66.178, 60.997, 56.437, 52.425,\n",
              "       48.894, 45.787, 43.053, 40.647, 38.529, 36.666, 35.026, 33.583,\n",
              "       32.313, 31.195, 30.212, 29.347, 28.585, 27.915, 27.325, 26.806,\n",
              "       26.349, 25.947, 25.593, 25.282, 25.008, 24.767])"
            ]
          },
          "metadata": {
            "tags": []
          },
          "execution_count": 217
        }
      ]
    },
    {
      "cell_type": "code",
      "metadata": {
        "id": "aVNEyH8arbZp",
        "outputId": "fa5fd59b-cbe3-4114-e16f-1d69aebac9a6"
      },
      "source": [
        "\n",
        "Ti= 95\n",
        "first_observation = 92\n",
        "c = round(constant_c(Ti,first_observation,Ts,dt),2)\n",
        "time = t \n",
        "actual = actual_T(time,c,Ti) \n",
        "actual"
      ],
      "execution_count": null,
      "outputs": [
        {
          "output_type": "execute_result",
          "data": {
            "text/plain": [
              "array([95.        , 83.13945522, 73.23269548, 64.95787417, 58.04616243,\n",
              "       52.2730155 , 47.45087785, 43.42308991, 40.05879863, 37.24870633,\n",
              "       34.90151995, 32.94098509, 31.30340871, 29.93558995, 28.79309169,\n",
              "       27.83879692, 27.04170292, 26.37591406, 25.81980045, 25.35529532,\n",
              "       24.96730802, 24.64323378, 24.37254423, 24.14644531, 23.95759162,\n",
              "       23.79984775, 23.668089  , 23.55803484, 23.46610988, 23.3893277 ])"
            ]
          },
          "metadata": {
            "tags": []
          },
          "execution_count": 218
        }
      ]
    },
    {
      "cell_type": "code",
      "metadata": {
        "scrolled": true,
        "id": "CTqABfqsrbZq",
        "outputId": "a715ddb8-13a6-42c9-867c-cf8db8b2c23b"
      },
      "source": [
        "error = max(abs(temp_euler - actual))/max(abs(actual))\n",
        "print(\"Error: \",round(error,5))\n",
        "\n",
        "\n",
        "pointsize = 3\n",
        "\n",
        "plot(time,actual,\"ob\",markersize=pointsize,label=\"Actual\")\n",
        "\n",
        "plot(t,temp_euler,\"ro\",markersize=pointsize,label=\"Euler\")\n",
        "\n",
        "ylabel(\"Temp in C\")\n",
        "\n",
        "xlabel(\"Time\")\n",
        "\n",
        "legend(loc='upper right',numpoints=1)\n",
        "\n",
        "show()"
      ],
      "execution_count": null,
      "outputs": [
        {
          "output_type": "stream",
          "text": [
            "Error:  0.09476\n"
          ],
          "name": "stdout"
        },
        {
          "output_type": "display_data",
          "data": {
            "image/png": "[encoded data removed]",
            "text/plain": [
              "<Figure size 432x288 with 1 Axes>"
            ]
          },
          "metadata": {
            "tags": [],
            "needs_background": "light"
          }
        }
      ]
    }
  ]
}